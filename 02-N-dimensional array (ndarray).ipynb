{
 "cells": [
  {
   "cell_type": "markdown",
   "metadata": {},
   "source": [
    "# N-dimensional array (ndarray)"
   ]
  },
  {
   "cell_type": "code",
   "execution_count": 19,
   "metadata": {},
   "outputs": [
    {
     "name": "stdout",
     "output_type": "stream",
     "text": [
      "[[1, 2, 3], [4, 5, 6], [8, 9, 0]]\n"
     ]
    }
   ],
   "source": [
    "import numpy as np\n",
    "\n",
    "m = [[1,2,3], [4,5,6], [8, 9, 0]]\n",
    "print(m)"
   ]
  },
  {
   "cell_type": "code",
   "execution_count": 20,
   "metadata": {},
   "outputs": [
    {
     "name": "stdout",
     "output_type": "stream",
     "text": [
      "x = \n",
      "[[1 2 3]\n",
      " [4 5 6]\n",
      " [8 9 0]]\n",
      "Type:  <class 'numpy.ndarray'>\n",
      "Shape:  (3, 3)\n",
      "dtype:  int32\n"
     ]
    }
   ],
   "source": [
    "x = np.array(m)\n",
    "print('x = ')\n",
    "print(x)\n",
    "print('Type: ', type(x))\n",
    "print('Shape: ', x.shape)\n",
    "print('dtype: ', x.dtype)"
   ]
  },
  {
   "cell_type": "code",
   "execution_count": 21,
   "metadata": {},
   "outputs": [
    {
     "name": "stdout",
     "output_type": "stream",
     "text": [
      "x = \n",
      "[[1. 2. 3.]\n",
      " [4. 5. 6.]\n",
      " [8. 9. 0.]]\n",
      "Type:  <class 'numpy.ndarray'>\n",
      "Shape:  (3, 3)\n",
      "dtype:  float16\n"
     ]
    }
   ],
   "source": [
    "x = np.array(m, np.float16)\n",
    "print('x = ')\n",
    "print(x)\n",
    "print('Type: ', type(x))\n",
    "print('Shape: ', x.shape)\n",
    "print('dtype: ', x.dtype)"
   ]
  },
  {
   "cell_type": "code",
   "execution_count": 22,
   "metadata": {},
   "outputs": [
    {
     "name": "stdout",
     "output_type": "stream",
     "text": [
      "x = \n",
      "[[1 2 3]\n",
      " [4 5 6]\n",
      " [8 9 0]]\n",
      "Type:  <class 'numpy.ndarray'>\n",
      "Shape:  (3, 3)\n",
      "dtype:  int64\n"
     ]
    }
   ],
   "source": [
    "x = np.array([[1,2,3], [4,5,6], [8, 9, 0]], np.int64)\n",
    "print('x = ')\n",
    "print(x)\n",
    "print('Type: ', type(x))\n",
    "print('Shape: ', x.shape)\n",
    "print('dtype: ', x.dtype)"
   ]
  },
  {
   "cell_type": "code",
   "execution_count": 24,
   "metadata": {},
   "outputs": [
    {
     "data": {
      "text/plain": [
       "1"
      ]
     },
     "execution_count": 24,
     "metadata": {},
     "output_type": "execute_result"
    }
   ],
   "source": [
    "#as numpy array is zero based indexed so first element of the matrix is at\n",
    "x[0,0]"
   ]
  },
  {
   "cell_type": "code",
   "execution_count": 25,
   "metadata": {},
   "outputs": [
    {
     "data": {
      "text/plain": [
       "0"
      ]
     },
     "execution_count": 25,
     "metadata": {},
     "output_type": "execute_result"
    }
   ],
   "source": [
    "x[2,2]"
   ]
  },
  {
   "cell_type": "code",
   "execution_count": null,
   "metadata": {},
   "outputs": [],
   "source": []
  }
 ],
 "metadata": {
  "kernelspec": {
   "display_name": "Python 3",
   "language": "python",
   "name": "python3"
  },
  "language_info": {
   "codemirror_mode": {
    "name": "ipython",
    "version": 3
   },
   "file_extension": ".py",
   "mimetype": "text/x-python",
   "name": "python",
   "nbconvert_exporter": "python",
   "pygments_lexer": "ipython3",
   "version": "3.6.8"
  }
 },
 "nbformat": 4,
 "nbformat_minor": 2
}
